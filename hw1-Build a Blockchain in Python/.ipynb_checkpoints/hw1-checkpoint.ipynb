{
 "cells": [
  {
   "cell_type": "markdown",
   "metadata": {},
   "source": [
    "# Build a Blockchain! - Blockchain Design Exercises"
   ]
  },
  {
   "cell_type": "markdown",
   "metadata": {},
   "source": [
    "## HW1 - Build a Blockchain in Python\n",
    "\n",
    "#### Getting Started\n",
    "\n",
    "CS 198-077 Spring 2020 \n",
    "HW1-Build a Blockchain in Python\n",
    "\n",
    "Created by Omkar Shanbhag, Updated by Simon Guo\n",
    "\n",
    "This notebook is meant to be a short introduction to Blockchain implementations, aimed at helping us take the topics we learn about in fundamentals, and seeing how they translate to code. \n",
    "\n",
    "In this notebook we will implement various different aspects of Blockchain technology that we understand including: \n",
    "\n",
    "- The Blockchain Data Structure using OOP \n",
    "- A proof of work simulation \n",
    "- Understanding of the concept of difficulty of finding the next block hash \n",
    "- A simulation of multiple miners with varying computational powers \n",
    "- A bit of data analytics to see if what we've implemented makes sense "
   ]
  },
  {
   "cell_type": "code",
   "execution_count": null,
   "metadata": {},
   "outputs": [],
   "source": [
    "#Import statements\n",
    "import hashlib as hasher \n",
    "import random as rand\n",
    "import time \n",
    "import datetime as date\n",
    "import ipyparallel as ipp\n",
    "import numpy as np\n",
    "import matplotlib.pyplot as plt"
   ]
  },
  {
   "cell_type": "markdown",
   "metadata": {},
   "source": [
    "# Blockchain Data Structure Design"
   ]
  },
  {
   "cell_type": "markdown",
   "metadata": {},
   "source": [
    "In this section we will define the class \"Block\" and create an init function that creates a new block given some parameters, as well as a function hash_block, that computes the hash of this block based on its class variables. \n",
    "\n",
    "The init function is implemented for you below and creates a block with the following specifications \n",
    "- Index --> the index of the block on the chain (zero indexed)\n",
    "- Timestamp --> time that the block was added on to the chain\n",
    "- data --> The data the block contains (Usually points to root of merkel tree, but we can fill it with whatever for this)\n",
    "- previous_hash --> The hash value of the previous block \n",
    "- hash --> hash of this block computed using the hash_block function\n",
    "- nonce --> the variable value that we change to alter the hash output (Default value = 0, irrelevant in this section)\n",
    "\n",
    "****QUESTION #1: Implement hash_block()****\n",
    "\n",
    "We need to implement the hash_block() which computes the hash value of this block based on how we initialize it. This function takes in no parameters. \n",
    "\n",
    "Desired Functionality:\n",
    "- Concatenate string representations of all the class variables \n",
    "- Computes the SHA256 hash of this concatenation \n",
    "\n",
    "-- HINTS --\n",
    "\n",
    "- use the first import statement!!! \n",
    "- initialize a new hasher\n",
    "- Look into the following words \n",
    "    - utf-8 encoding \n",
    "    - .update() function \n",
    "    - .hexdigest() function\n",
    "    - In order for the test function below to work properly, create the string concatenation in the following order with no spaces or any other characters in between \n",
    "       - index\n",
    "       - timestamp\n",
    "       - data\n",
    "       - previous block hash\n",
    "       - nonce\n",
    "     - If you want to do it another order that incorporates everything thats totally fine, but test function wont work!"
   ]
  },
  {
   "cell_type": "markdown",
   "metadata": {},
   "source": []
  },
  {
   "cell_type": "code",
   "execution_count": 2,
   "metadata": {},
   "outputs": [
    {
     "ename": "IndentationError",
     "evalue": "expected an indented block (<ipython-input-2-ee6271f75605>, line 11)",
     "output_type": "error",
     "traceback": [
      "\u001b[0;36m  File \u001b[0;32m\"<ipython-input-2-ee6271f75605>\"\u001b[0;36m, line \u001b[0;32m11\u001b[0m\n\u001b[0;31m    #Your code for QUESTION 1 Here\u001b[0m\n\u001b[0m                                   ^\u001b[0m\n\u001b[0;31mIndentationError\u001b[0m\u001b[0;31m:\u001b[0m expected an indented block\n"
     ]
    }
   ],
   "source": [
    "class Block:\n",
    "    def __init__(self, index, timestamp, data, previous_hash, nonce=0):\n",
    "        self.index = index\n",
    "        self.timestamp = timestamp\n",
    "        self.data = data\n",
    "        self.nonce = nonce #set to zero as default not applicable in first section \n",
    "        self.previous_hash = previous_hash\n",
    "        self.hash = self.hash_block()\n",
    "\n",
    "    def hash_block(self):\n"
   ]
  },
  {
   "cell_type": "markdown",
   "metadata": {},
   "source": [
    "**TEST YOUR QUESTION 1 CODE HERE**\n",
    "\n",
    "Run the block of code below"
   ]
  },
  {
   "cell_type": "code",
   "execution_count": 3,
   "metadata": {},
   "outputs": [
    {
     "ename": "NameError",
     "evalue": "name 'Block' is not defined",
     "output_type": "error",
     "traceback": [
      "\u001b[0;31m---------------------------------------------------------------------------\u001b[0m",
      "\u001b[0;31mNameError\u001b[0m                                 Traceback (most recent call last)",
      "\u001b[0;32m<ipython-input-3-10c27c2078de>\u001b[0m in \u001b[0;36m<module>\u001b[0;34m\u001b[0m\n\u001b[1;32m     10\u001b[0m \u001b[0mindex\u001b[0m \u001b[0;34m=\u001b[0m \u001b[0;36m0\u001b[0m\u001b[0;34m\u001b[0m\u001b[0;34m\u001b[0m\u001b[0m\n\u001b[1;32m     11\u001b[0m \u001b[0;34m\u001b[0m\u001b[0m\n\u001b[0;32m---> 12\u001b[0;31m \u001b[0mtest_question_1\u001b[0m\u001b[0;34m(\u001b[0m\u001b[0mindex\u001b[0m\u001b[0;34m,\u001b[0m \u001b[0mtime\u001b[0m\u001b[0;34m,\u001b[0m \u001b[0mdata\u001b[0m\u001b[0;34m,\u001b[0m \u001b[0mprevious_hash\u001b[0m\u001b[0;34m)\u001b[0m\u001b[0;34m\u001b[0m\u001b[0;34m\u001b[0m\u001b[0m\n\u001b[0m",
      "\u001b[0;32m<ipython-input-3-10c27c2078de>\u001b[0m in \u001b[0;36mtest_question_1\u001b[0;34m(index, time, data, previous_hash)\u001b[0m\n\u001b[1;32m      1\u001b[0m \u001b[0;32mdef\u001b[0m \u001b[0mtest_question_1\u001b[0m\u001b[0;34m(\u001b[0m\u001b[0mindex\u001b[0m\u001b[0;34m,\u001b[0m \u001b[0mtime\u001b[0m\u001b[0;34m,\u001b[0m \u001b[0mdata\u001b[0m\u001b[0;34m,\u001b[0m \u001b[0mprevious_hash\u001b[0m\u001b[0;34m)\u001b[0m\u001b[0;34m:\u001b[0m\u001b[0;34m\u001b[0m\u001b[0;34m\u001b[0m\u001b[0m\n\u001b[0;32m----> 2\u001b[0;31m     \u001b[0mnew_block\u001b[0m \u001b[0;34m=\u001b[0m \u001b[0mBlock\u001b[0m\u001b[0;34m(\u001b[0m\u001b[0mindex\u001b[0m\u001b[0;34m,\u001b[0m \u001b[0mtime\u001b[0m\u001b[0;34m,\u001b[0m \u001b[0mdata\u001b[0m\u001b[0;34m,\u001b[0m \u001b[0mprevious_hash\u001b[0m\u001b[0;34m)\u001b[0m\u001b[0;34m\u001b[0m\u001b[0;34m\u001b[0m\u001b[0m\n\u001b[0m\u001b[1;32m      3\u001b[0m     \u001b[0mcheck_string\u001b[0m \u001b[0;34m=\u001b[0m \u001b[0;34m'2def27922fc1c67254a9cdb0c660b91abf9b135ad38fc13c7c77007448b824a0'\u001b[0m\u001b[0;34m\u001b[0m\u001b[0;34m\u001b[0m\u001b[0m\n\u001b[1;32m      4\u001b[0m     \u001b[0mprint_statement\u001b[0m \u001b[0;34m=\u001b[0m \u001b[0;34m\"PASSED!!! Move on to next Question\"\u001b[0m \u001b[0;32mif\u001b[0m \u001b[0mstr\u001b[0m\u001b[0;34m(\u001b[0m\u001b[0mnew_block\u001b[0m\u001b[0;34m.\u001b[0m\u001b[0mhash\u001b[0m\u001b[0;34m)\u001b[0m \u001b[0;34m==\u001b[0m \u001b[0mcheck_string\u001b[0m \u001b[0;32melse\u001b[0m \u001b[0;34m\"FAILED!!! Try Again\"\u001b[0m\u001b[0;34m\u001b[0m\u001b[0;34m\u001b[0m\u001b[0m\n\u001b[1;32m      5\u001b[0m     \u001b[0mprint\u001b[0m\u001b[0;34m(\u001b[0m\u001b[0mprint_statement\u001b[0m\u001b[0;34m)\u001b[0m\u001b[0;34m\u001b[0m\u001b[0;34m\u001b[0m\u001b[0m\n",
      "\u001b[0;31mNameError\u001b[0m: name 'Block' is not defined"
     ]
    }
   ],
   "source": [
    "def test_question_1(index, time, data, previous_hash):\n",
    "    new_block = Block(index, time, data, previous_hash)\n",
    "    check_string = '2def27922fc1c67254a9cdb0c660b91abf9b135ad38fc13c7c77007448b824a0'\n",
    "    print_statement = \"PASSED!!! Move on to next Question\" if str(new_block.hash) == check_string else \"FAILED!!! Try Again\"\n",
    "    print(print_statement)\n",
    "    \n",
    "time = '2019-10-17 00:37:35.256774'\n",
    "data = 'Machine Learning Blockchain AI'\n",
    "previous_hash = '6ffd1464f68ef4aeb385d399244efa19293ba5c842c464a82c02f8256ef71428'\n",
    "index = 0\n",
    "    \n",
    "test_question_1(index, time, data, previous_hash)"
   ]
  },
  {
   "cell_type": "markdown",
   "metadata": {},
   "source": [
    "**Functions for Building the Chain**\n",
    "\n",
    "Now that we have our class Block completed, lets figure out how to make a chain out of them. For a chain, we need to first have a function that creates a genesis block, which serves as the first block of our chain, and then create the function next_block() which builds a new block on top of a given block.\n",
    "\n",
    "create_genesis_block() has been implemented for you. It creates a block with the following specifications. \n",
    "- index = 0\n",
    "- timestamp = Now (whenever the function is being called) \n",
    "- data = \"Genesis Block\"\n",
    "- previous_hash = \"0\"\n",
    "\n",
    "**QUESTION #2: Implement next_block()**\n",
    "\n",
    "We need to implement the function next_block() which takes in 1 parameter:\n",
    "- Last_block = an instance of class Block that is the block that we're building our next block on top of \n",
    "- nonce = Dont do anything with this right now - just pass it in to the Block that you create using the default \n",
    "\n",
    "We want to implement the function so that it returns a new instance of the class Block with the following specifications\n",
    "- index = index of last_block + 1\n",
    "- timestamp = Now (whenever the function is being called)\n",
    "- data = \"Hey! I'm block {index}\"  (for example block w/ index 5 would have data: \"Hey! I'm block 5\")\n",
    "- previous_hash = hash of last_block"
   ]
  },
  {
   "cell_type": "code",
   "execution_count": 4,
   "metadata": {},
   "outputs": [
    {
     "ename": "IndentationError",
     "evalue": "expected an indented block (<ipython-input-4-34982addd8be>, line 10)",
     "output_type": "error",
     "traceback": [
      "\u001b[0;36m  File \u001b[0;32m\"<ipython-input-4-34982addd8be>\"\u001b[0;36m, line \u001b[0;32m10\u001b[0m\n\u001b[0;31m    \u001b[0m\n\u001b[0m    ^\u001b[0m\n\u001b[0;31mIndentationError\u001b[0m\u001b[0;31m:\u001b[0m expected an indented block\n"
     ]
    }
   ],
   "source": [
    "#Creates the first block with current time and generic data\n",
    "def create_genesis_block():\n",
    "    # Manually construct a block with\n",
    "    # index zero and arbitrary previous hash\n",
    "    return Block(0, date.datetime.now(), \"Genesis Block\", \"0\")\n",
    "\n",
    "#Function that creates the next block, given the last block on the chain you want to mine on\n",
    "def next_block(last_block, nonce=0):\n",
    "    #Your code for QUESTION 2 here\n",
    "    "
   ]
  },
  {
   "cell_type": "markdown",
   "metadata": {},
   "source": [
    "**TEST YOUR QUESTION 2 CODE HERE**\n",
    "\n",
    "Run the block of code below"
   ]
  },
  {
   "cell_type": "code",
   "execution_count": 5,
   "metadata": {},
   "outputs": [
    {
     "ename": "NameError",
     "evalue": "name 'create_genesis_block' is not defined",
     "output_type": "error",
     "traceback": [
      "\u001b[0;31m---------------------------------------------------------------------------\u001b[0m",
      "\u001b[0;31mNameError\u001b[0m                                 Traceback (most recent call last)",
      "\u001b[0;32m<ipython-input-5-c2b517baa5ab>\u001b[0m in \u001b[0;36m<module>\u001b[0;34m\u001b[0m\n\u001b[1;32m      7\u001b[0m \u001b[0;34m\u001b[0m\u001b[0m\n\u001b[1;32m      8\u001b[0m \u001b[0;34m\u001b[0m\u001b[0m\n\u001b[0;32m----> 9\u001b[0;31m \u001b[0mgenesis_block\u001b[0m \u001b[0;34m=\u001b[0m \u001b[0mcreate_genesis_block\u001b[0m\u001b[0;34m(\u001b[0m\u001b[0;34m)\u001b[0m\u001b[0;34m\u001b[0m\u001b[0;34m\u001b[0m\u001b[0m\n\u001b[0m\u001b[1;32m     10\u001b[0m \u001b[0mtest_question_2\u001b[0m\u001b[0;34m(\u001b[0m\u001b[0mgenesis_block\u001b[0m\u001b[0;34m)\u001b[0m\u001b[0;34m\u001b[0m\u001b[0;34m\u001b[0m\u001b[0m\n",
      "\u001b[0;31mNameError\u001b[0m: name 'create_genesis_block' is not defined"
     ]
    }
   ],
   "source": [
    "def test_question_2(genesis_block):\n",
    "    block_1 = next_block(genesis_block)\n",
    "    if block_1.index == 1 and block_1.data == \"Hey! I'm block 1\" and block_1.previous_hash == genesis_block.hash and str(type(block_1.timestamp)) == \"<class 'datetime.datetime'>\":\n",
    "        print(\"PASSED!!! Move on to next part\" )\n",
    "    else:\n",
    "        print(\"FAILED!!! Try again :(\")\n",
    "    \n",
    "\n",
    "genesis_block = create_genesis_block()\n",
    "test_question_2(genesis_block)"
   ]
  },
  {
   "cell_type": "markdown",
   "metadata": {},
   "source": [
    "**Spinning up a Chain**\n",
    "\n",
    "Now that we've created the data structure as well as the functions needed to create the chain, lets see how spinning up an actual instance of this would work. \n",
    "\n",
    "Below we initialize three different variables \n",
    "- blockchain - this is a python list which we initialize with one block inside (the genesis block) \n",
    "- previous_block - this points to our genesis block (since it references the first element in blockchain)\n",
    "- num_blocks - this specifies the number of additional blocks we want to add to our chain \n",
    "\n",
    "**QUESTION 3 complete_chain()**\n",
    "\n",
    "We want to complete the implementation of the function complete_chain(). This function takes in three inputs, which correspond to the initializations that we made. It returns nothing, however by the time we are done running it, the list 'blockchain' that we initialized earlier has been turned into an array of length num_blocks + 1 in which each element is an instance of class Block and each element's self.previous_hash == the previous element's self.hash. Therefore we have created our own mini blockchain!! \n",
    "\n",
    "The for loop and the print statements of complete_chain have been implemented for you, you need to add the statements that ***create a new block on top of previous_block, add it to the block chain, and edit previous block so that the for loop can continue correctly*** \n",
    "\n",
    "****HINT **** --> Literally just do all the things listed in the section immediately above in order \n",
    "\n",
    "If it works out, you should get the same number of print statements as num_blocks"
   ]
  },
  {
   "cell_type": "code",
   "execution_count": 6,
   "metadata": {},
   "outputs": [
    {
     "ename": "NameError",
     "evalue": "name 'create_genesis_block' is not defined",
     "output_type": "error",
     "traceback": [
      "\u001b[0;31m---------------------------------------------------------------------------\u001b[0m",
      "\u001b[0;31mNameError\u001b[0m                                 Traceback (most recent call last)",
      "\u001b[0;32m<ipython-input-6-47a553b923ae>\u001b[0m in \u001b[0;36m<module>\u001b[0;34m\u001b[0m\n\u001b[1;32m      1\u001b[0m \u001b[0;31m# Create the blockchain and add the genesis block\u001b[0m\u001b[0;34m\u001b[0m\u001b[0;34m\u001b[0m\u001b[0;34m\u001b[0m\u001b[0m\n\u001b[0;32m----> 2\u001b[0;31m \u001b[0mblockchain\u001b[0m \u001b[0;34m=\u001b[0m \u001b[0;34m[\u001b[0m\u001b[0mcreate_genesis_block\u001b[0m\u001b[0;34m(\u001b[0m\u001b[0;34m)\u001b[0m\u001b[0;34m]\u001b[0m\u001b[0;34m\u001b[0m\u001b[0;34m\u001b[0m\u001b[0m\n\u001b[0m\u001b[1;32m      3\u001b[0m \u001b[0;34m\u001b[0m\u001b[0m\n\u001b[1;32m      4\u001b[0m \u001b[0;31m#Create our initial reference to previous block which points to the genesis block\u001b[0m\u001b[0;34m\u001b[0m\u001b[0;34m\u001b[0m\u001b[0;34m\u001b[0m\u001b[0m\n\u001b[1;32m      5\u001b[0m \u001b[0mprevious_block\u001b[0m \u001b[0;34m=\u001b[0m \u001b[0mblockchain\u001b[0m\u001b[0;34m[\u001b[0m\u001b[0;36m0\u001b[0m\u001b[0;34m]\u001b[0m\u001b[0;34m\u001b[0m\u001b[0;34m\u001b[0m\u001b[0m\n",
      "\u001b[0;31mNameError\u001b[0m: name 'create_genesis_block' is not defined"
     ]
    }
   ],
   "source": [
    "# Create the blockchain and add the genesis block\n",
    "blockchain = [create_genesis_block()]\n",
    "\n",
    "#Create our initial reference to previous block which points to the genesis block\n",
    "previous_block = blockchain[0]\n",
    "\n",
    "# How many blocks should we add to the chain after the genesis block\n",
    "num_blocks = 20\n",
    "\n",
    "def complete_chain(num_blocks, blockchain, previous_block):\n",
    "    # Add blocks to the chain\n",
    "    for i in range(0, num_blocks):\n",
    "        #Your code for QUESTION 3 Here \n",
    "\n",
    "        \n",
    "        #Your code for QUESTION 3 ends Here\n",
    "        # Tell everyone about it!\n",
    "        print(\"Block #{} has been added to the blockchain!\".format(block_to_add.index))\n",
    "        print(\"Hash: {}\\n\".format(block_to_add.hash))\n",
    "\n",
    "complete_chain(num_blocks, blockchain, previous_block)"
   ]
  },
  {
   "cell_type": "markdown",
   "metadata": {},
   "source": [
    "**TEST YOUR QUESTION 3 CODE HERE**\n",
    "\n",
    "Run the block of code below"
   ]
  },
  {
   "cell_type": "code",
   "execution_count": 7,
   "metadata": {},
   "outputs": [
    {
     "ename": "NameError",
     "evalue": "name 'blockchain' is not defined",
     "output_type": "error",
     "traceback": [
      "\u001b[0;31m---------------------------------------------------------------------------\u001b[0m",
      "\u001b[0;31mNameError\u001b[0m                                 Traceback (most recent call last)",
      "\u001b[0;32m<ipython-input-7-9dd467635ae8>\u001b[0m in \u001b[0;36m<module>\u001b[0;34m\u001b[0m\n\u001b[1;32m     10\u001b[0m     \u001b[0mprint\u001b[0m\u001b[0;34m(\u001b[0m\u001b[0mprint_statement\u001b[0m\u001b[0;34m)\u001b[0m\u001b[0;34m\u001b[0m\u001b[0;34m\u001b[0m\u001b[0m\n\u001b[1;32m     11\u001b[0m \u001b[0;34m\u001b[0m\u001b[0m\n\u001b[0;32m---> 12\u001b[0;31m \u001b[0mtest_question_3\u001b[0m\u001b[0;34m(\u001b[0m\u001b[0mblockchain\u001b[0m\u001b[0;34m,\u001b[0m \u001b[0mnum_blocks\u001b[0m\u001b[0;34m)\u001b[0m\u001b[0;34m\u001b[0m\u001b[0;34m\u001b[0m\u001b[0m\n\u001b[0m",
      "\u001b[0;31mNameError\u001b[0m: name 'blockchain' is not defined"
     ]
    }
   ],
   "source": [
    "def test_question_3(blockchain, num_blocks):\n",
    "    correct = True\n",
    "    if len(blockchain) != num_blocks + 1:\n",
    "        correct = False\n",
    "    for i in range(len(blockchain)-1):\n",
    "        if blockchain[i + 1].previous_hash != blockchain[i].hash:\n",
    "            correct = False\n",
    "            break\n",
    "    print_statement = \"PASSED!!! Move on to the next Part\" if correct else \"FAILED!!! Try Again :(\"\n",
    "    print(print_statement)\n",
    "\n",
    "test_question_3(blockchain, num_blocks)"
   ]
  },
  {
   "cell_type": "markdown",
   "metadata": {},
   "source": [
    "# Proof of Work Simulation"
   ]
  },
  {
   "cell_type": "markdown",
   "metadata": {},
   "source": [
    "In this section we will be doing a simulation of the proof-of-work consensus mechanism that the Bitcoin Blockchain (among others) uses. Let us define some of the concepts that we will be dealing with in this section. \n",
    "\n",
    "**The Nonce** --> Randomly generated value that we add to our concatenation of our block to add variance to our hashes\n",
    "\n",
    "**Difficulty** --> Specified by the network (in theory, here it is specified by us). Defines the number of hashes that are valid out of all possible values. Higher difficulty indicates a lower number of valid hashes. \n",
    "\n",
    "**QUESTION 4: generate_nonce(), generate_difficulty_bound(), find_next_block()**\n",
    "\n",
    "**Part 1 - Description** \n",
    "\n",
    "The functions **generate_nonce()** and **generate_difficulty_bound()** have been implemented below for you. The first part of this question involves reading through, them understanding them completely, and writing a quick 1 - 2 line summary of what they are supposed to do and how they are implemented (write it in the space given, 2 cells below).\n",
    "\n",
    "**Part 2 - Implementation**\n",
    "\n",
    "The second part of this question is to complete the implementation of find_next_block(). This function's purpose is to try different blocks with the same data, index etc. but different nonces that satisfy the difficulty metric specified. The difficulty bound has already been generated for you and the first block has been created. You have to complete the implementation so that: \n",
    "- You find a nonce such that the hash of the block is less than the difficulty bound. \n",
    "- All data from new block has to be the same (including the timestamp, for simplicity purposes) and the only thing changing is the nonce \n",
    "- For our learning purposes, increment the hashes_tried parameter appropriately everytime you try a hash so that we can see the number of hashes tried and how this correlates to our difficulty value. \n",
    "\n",
    "**HINTS**\n",
    "- How do you turn a hash string into its hex prepresentation that you can compare???\n",
    "- if your implementation is working, you should notice something interesting about all the hashes of the blocks that you are getting when you run the code cell labeled \"Create Proof of work Blockchain\"**\n",
    "\n",
    "\n",
    "\n",
    "**you can test question 4 in the a few cells below this one, after running all the cells in between**"
   ]
  },
  {
   "cell_type": "code",
   "execution_count": 8,
   "metadata": {},
   "outputs": [],
   "source": [
    "import time\n",
    "\n",
    "def generate_nonce(length=20):\n",
    "    return ''.join([str(rand.randint(0, 9)) for i in range(length)])\n",
    "\n",
    "def generate_difficulty_bound(difficulty=1):\n",
    "    diff_str = \"\"\n",
    "    for i in range(difficulty):\n",
    "        diff_str += '0'\n",
    "    for i in range(64 - difficulty):\n",
    "        diff_str += 'F'\n",
    "    diff_str = \"0x\" + diff_str  # \"0x\" needs to be added at the front to specify that it is a hex representation\n",
    "    return(int(diff_str, 16))  # Specifies that we want to create an integer of base 16 (as opposed to the default base 10)\n",
    "\n",
    "#Given a previous block and a difficulty metric, finds a nonce that results in a lower hash value\n",
    "def find_next_block(last_block, difficulty, nonce_length):\n",
    "    difficulty_bound = generate_difficulty_bound(difficulty)\n",
    "    start = time.process_time() \n",
    "    new_block = next_block(last_block)\n",
    "    hashes_tried = 1 \n",
    "    #Your code for QUESTION 4 Starts here \n",
    "\n",
    "    #Your code for QUESTION 4 Ends here \n",
    "    time_taken = time.process_time() - start\n",
    "    return(time_taken, hashes_tried, new_block)"
   ]
  },
  {
   "cell_type": "markdown",
   "metadata": {},
   "source": [
    "**QUESTION 4 Description Section**\n",
    "\n",
    "Describe the following functions: \n",
    "\n",
    "- generate_nonce():         ######Your Description Here######\n",
    "\n",
    "- generate_difficulty_bound():        ######Your Description Here######"
   ]
  },
  {
   "cell_type": "markdown",
   "metadata": {},
   "source": [
    "The cell below creates our proof of work blockchain in a similar way that we do in the earlier section. \n",
    "\n",
    "Some initializations:\n",
    "- blockchain_pow: Our new python list that signifies our proof of work blockchain, with the genesis block inside\n",
    "- previous_block: The first block to use as previous block to build upon\n",
    "- num_blocks: number of additional blocks to add to teh chain\n",
    "- difficulty: difficulty of the network \n",
    "- nonce_length: length of the randomly generated nonce"
   ]
  },
  {
   "cell_type": "markdown",
   "metadata": {},
   "source": [
    "### Create Proof of Work Blockchain "
   ]
  },
  {
   "cell_type": "code",
   "execution_count": 9,
   "metadata": {},
   "outputs": [
    {
     "ename": "NameError",
     "evalue": "name 'create_genesis_block' is not defined",
     "output_type": "error",
     "traceback": [
      "\u001b[0;31m---------------------------------------------------------------------------\u001b[0m",
      "\u001b[0;31mNameError\u001b[0m                                 Traceback (most recent call last)",
      "\u001b[0;32m<ipython-input-9-2abfa25e9377>\u001b[0m in \u001b[0;36m<module>\u001b[0;34m\u001b[0m\n\u001b[1;32m      1\u001b[0m \u001b[0;31m# Create the blockchain and add the genesis block\u001b[0m\u001b[0;34m\u001b[0m\u001b[0;34m\u001b[0m\u001b[0;34m\u001b[0m\u001b[0m\n\u001b[0;32m----> 2\u001b[0;31m \u001b[0mblockchain_pow\u001b[0m \u001b[0;34m=\u001b[0m \u001b[0;34m[\u001b[0m\u001b[0mcreate_genesis_block\u001b[0m\u001b[0;34m(\u001b[0m\u001b[0;34m)\u001b[0m\u001b[0;34m]\u001b[0m\u001b[0;34m\u001b[0m\u001b[0;34m\u001b[0m\u001b[0m\n\u001b[0m\u001b[1;32m      3\u001b[0m \u001b[0;34m\u001b[0m\u001b[0m\n\u001b[1;32m      4\u001b[0m \u001b[0;31m#Create our initial reference to previous block which points to the genesis block\u001b[0m\u001b[0;34m\u001b[0m\u001b[0;34m\u001b[0m\u001b[0;34m\u001b[0m\u001b[0m\n\u001b[1;32m      5\u001b[0m \u001b[0mprevious_block\u001b[0m \u001b[0;34m=\u001b[0m \u001b[0mblockchain_pow\u001b[0m\u001b[0;34m[\u001b[0m\u001b[0;36m0\u001b[0m\u001b[0;34m]\u001b[0m\u001b[0;34m\u001b[0m\u001b[0;34m\u001b[0m\u001b[0m\n",
      "\u001b[0;31mNameError\u001b[0m: name 'create_genesis_block' is not defined"
     ]
    }
   ],
   "source": [
    "# Create the blockchain and add the genesis block\n",
    "blockchain_pow = [create_genesis_block()]\n",
    "\n",
    "#Create our initial reference to previous block which points to the genesis block\n",
    "previous_block = blockchain_pow[0]\n",
    "\n",
    "# How many blocks should we add to the chain after genesis block\n",
    "num_blocks = 20\n",
    "\n",
    "#magnitude of difficulty of hash - number of zeroes that must be in the beginning of the hash\n",
    "difficulty = 3\n",
    "\n",
    "#length of nonce that will be generated and added\n",
    "nonce_length = 20\n",
    "\n",
    "# Add blocks to the chain based on difficulty with nonces of length nonce_length\n",
    "def create_pow_blockchain(num_blocks, difficulty, blockchain_pow, previous_block, nonce_length, print_data=1):\n",
    "    hash_array = []\n",
    "    time_array = []\n",
    "    for i in range(0, num_blocks):\n",
    "        time_taken, hashes_tried, block_to_add = find_next_block(previous_block, difficulty, nonce_length)\n",
    "        blockchain_pow.append(block_to_add)\n",
    "        previous_block = block_to_add\n",
    "        hash_array.append(hashes_tried)\n",
    "        time_array.append(time_taken)\n",
    "        # Tell everyone about it!\n",
    "        if print_data:\n",
    "            print(\"Block #{} has been added to the blockchain!\".format(block_to_add.index))\n",
    "            print(\"{} Hashes Tried!\".format(hashes_tried))\n",
    "            print(\"Time taken to find block: {}\".format(time_taken))\n",
    "            print(\"Hash: {}\\n\".format(block_to_add.hash))\n",
    "    return(hash_array, time_array)\n",
    "\n",
    "hash_array, time_array = create_pow_blockchain(num_blocks, difficulty, blockchain_pow, previous_block, nonce_length)"
   ]
  },
  {
   "cell_type": "markdown",
   "metadata": {},
   "source": [
    "**TEST YOUR QUESTION 4 CODE HERE**\n",
    "\n",
    "Run the block of code below"
   ]
  },
  {
   "cell_type": "code",
   "execution_count": 10,
   "metadata": {},
   "outputs": [
    {
     "ename": "NameError",
     "evalue": "name 'blockchain_pow' is not defined",
     "output_type": "error",
     "traceback": [
      "\u001b[0;31m---------------------------------------------------------------------------\u001b[0m",
      "\u001b[0;31mNameError\u001b[0m                                 Traceback (most recent call last)",
      "\u001b[0;32m<ipython-input-10-84de0c5e292e>\u001b[0m in \u001b[0;36m<module>\u001b[0;34m\u001b[0m\n\u001b[1;32m     14\u001b[0m     \u001b[0mprint\u001b[0m\u001b[0;34m(\u001b[0m\u001b[0mprint_statement\u001b[0m\u001b[0;34m)\u001b[0m\u001b[0;34m\u001b[0m\u001b[0;34m\u001b[0m\u001b[0m\n\u001b[1;32m     15\u001b[0m \u001b[0;34m\u001b[0m\u001b[0m\n\u001b[0;32m---> 16\u001b[0;31m \u001b[0mtest_question_4\u001b[0m\u001b[0;34m(\u001b[0m\u001b[0mblockchain_pow\u001b[0m\u001b[0;34m,\u001b[0m \u001b[0mnum_blocks\u001b[0m\u001b[0;34m)\u001b[0m\u001b[0;34m\u001b[0m\u001b[0;34m\u001b[0m\u001b[0m\n\u001b[0m",
      "\u001b[0;31mNameError\u001b[0m: name 'blockchain_pow' is not defined"
     ]
    }
   ],
   "source": [
    "def test_question_4(blockchain_pow, num_blocks):\n",
    "    correct = True\n",
    "    bound = generate_difficulty_bound(difficulty)\n",
    "    if len(blockchain_pow) != num_blocks + 1:\n",
    "        correct = False\n",
    "    for i in range(len(blockchain_pow) - 1):\n",
    "        if blockchain_pow[i + 1].previous_hash != blockchain_pow[i].hash:\n",
    "            correct = False\n",
    "            break\n",
    "        if int(blockchain_pow[i + 1].hash, 16) > bound:\n",
    "            correct = False\n",
    "            break\n",
    "    print_statement = \"PASSED!!! Move on to the next Part\" if correct else \"FAILED!!! Try Again :(\"\n",
    "    print(print_statement)\n",
    "            \n",
    "test_question_4(blockchain_pow, num_blocks)"
   ]
  },
  {
   "cell_type": "markdown",
   "metadata": {},
   "source": [
    "Once you have passed the above test case, you can do things like play around with the difficulties and nonce lengths and seeing that happens "
   ]
  },
  {
   "cell_type": "markdown",
   "metadata": {},
   "source": [
    "# Note: The sections below are optional but super cool!"
   ]
  },
  {
   "cell_type": "markdown",
   "metadata": {},
   "source": [
    "# Distributed Network + Compute Power Simulation"
   ]
  },
  {
   "cell_type": "markdown",
   "metadata": {},
   "source": [
    "In this section, instead of simulating a single node that carries out all the proof of work calculations, we will create a bunch of different nodes that will all compete to find different blocks. These nodes will all have different compute powers that we will be able to specify. Below we will define the MinerNodeNaive class which has an init function to create an instance, as well as a try_hash function that allows it to try a hash and see if it works. "
   ]
  },
  {
   "cell_type": "code",
   "execution_count": 11,
   "metadata": {},
   "outputs": [],
   "source": [
    "#Naive miner class that races with other miners to see who can get a certain number of blocks first \n",
    "class MinerNodeNaive: \n",
    "    def __init__(self, name, compute):\n",
    "        self.name = name \n",
    "        self.compute = compute\n",
    "    \n",
    "    def try_hash(self, diff_value, chain):\n",
    "        last_block = chain[-1]\n",
    "        difficulty = generate_difficulty_bound(diff_value)\n",
    "        date_now = date.datetime.now()\n",
    "        this_index = last_block.index + 1\n",
    "        this_timestamp = date_now\n",
    "        this_data = \"Hey! I'm block \" + str(this_index)\n",
    "        this_hash = last_block.hash\n",
    "        new_block = Block(this_index, this_timestamp, this_data, this_hash)\n",
    "        if int(new_block.hash, 16) < difficulty:\n",
    "            chain.append(new_block)\n",
    "            # Tell everyone about it!\n",
    "            print(\"Block #{} has been added to the blockchain!\".format(new_block.index))\n",
    "            print(\"Block found by: {}\".format(self.name))\n",
    "            print(\"Hash: {}\\n\".format(new_block.hash))\n",
    "        "
   ]
  },
  {
   "cell_type": "markdown",
   "metadata": {},
   "source": [
    "**Question #5: Describe the Following Cells**\n",
    "\n",
    "In the next 4 cells I try to simulate a bunch of different miners with different compute powers. However this isn't completely indicative of how a real system works, and is limited by what I had to work with. Read through the code, and run all of the cells and explain what is happening in a paragrpah. Also explain how this is different from real world vanilla proof of work systems and how this simulation isn't completely accurate of what's actually happening while nodes race to find the next block. There is a cell at the bottom where you can enter your description.  "
   ]
  },
  {
   "cell_type": "code",
   "execution_count": null,
   "metadata": {},
   "outputs": [],
   "source": [
    "#Initialize multiple miners on the network \n",
    "berkeley_Miner = MinerNodeNaive(\"Berkeley Miner\", 10)\n",
    "stanford_Miner = MinerNodeNaive(\"Stanford Miner\", 5)\n",
    "MIT_Miner = MinerNodeNaive(\"MIT Miner\", 2)\n",
    "UCLA_Miner = MinerNodeNaive(\"UCLA Miner\", 1)\n",
    "\n",
    "miner_array = [berkeley_Miner, stanford_Miner, MIT_Miner, UCLA_Miner]"
   ]
  },
  {
   "cell_type": "code",
   "execution_count": null,
   "metadata": {},
   "outputs": [],
   "source": [
    "def create_compute_simulation(miner_array):\n",
    "    compute_array = []\n",
    "    for miner in miner_array:\n",
    "        for i in range(miner.compute):\n",
    "            compute_array.append(miner.name)\n",
    "    return(compute_array)\n",
    "\n",
    "compute_simulation_array = create_compute_simulation(miner_array)\n",
    "rand.shuffle(compute_simulation_array)"
   ]
  },
  {
   "cell_type": "code",
   "execution_count": null,
   "metadata": {},
   "outputs": [],
   "source": [
    "chain_length = 20\n",
    "blockchain_distributed = [create_genesis_block()]\n",
    "genesis_block_dist = blockchain_distributed[0]\n",
    "chain_difficulty = [rand.randint(2,4) for i in range(chain_length)]"
   ]
  },
  {
   "cell_type": "code",
   "execution_count": null,
   "metadata": {},
   "outputs": [],
   "source": [
    "for i in range(len(chain_difficulty)): \n",
    "    while len(blockchain_distributed) < i + 2:\n",
    "        next_miner_str = rand.sample(compute_simulation_array, 1)[0] \n",
    "        next_miner = berkeley_Miner #random default (go bears)\n",
    "        for miner in miner_array:\n",
    "            if next_miner_str == miner.name:\n",
    "                next_miner = miner\n",
    "        next_miner.try_hash(chain_difficulty[i], blockchain_distributed)\n",
    "        "
   ]
  },
  {
   "cell_type": "markdown",
   "metadata": {},
   "source": [
    "**Question 5 Description Here**\n",
    "\n",
    "- Description: **#####Your description here####**"
   ]
  },
  {
   "cell_type": "markdown",
   "metadata": {
    "collapsed": true
   },
   "source": [
    "# Blockchain Data Analytics"
   ]
  },
  {
   "cell_type": "markdown",
   "metadata": {
    "collapsed": true
   },
   "source": [
    "Here we will use data analytics to analyze the number of hashes we need to try before we find a valid hash, given a difficulty level. Look through the code briefly (in depth is not necessary), run all of the cells, and answer the question at the bottom. (difficulty level 3 takes a bit of time so dont be alarmed if this next cell takes a bit of time to run). "
   ]
  },
  {
   "cell_type": "code",
   "execution_count": 12,
   "metadata": {},
   "outputs": [
    {
     "ename": "NameError",
     "evalue": "name 'create_genesis_block' is not defined",
     "output_type": "error",
     "traceback": [
      "\u001b[0;31m---------------------------------------------------------------------------\u001b[0m",
      "\u001b[0;31mNameError\u001b[0m                                 Traceback (most recent call last)",
      "\u001b[0;32m<ipython-input-12-13fc893880d5>\u001b[0m in \u001b[0;36m<module>\u001b[0;34m\u001b[0m\n\u001b[0;32m----> 1\u001b[0;31m \u001b[0mblockchain\u001b[0m \u001b[0;34m=\u001b[0m \u001b[0;34m[\u001b[0m\u001b[0mcreate_genesis_block\u001b[0m\u001b[0;34m(\u001b[0m\u001b[0;34m)\u001b[0m\u001b[0;34m]\u001b[0m\u001b[0;34m\u001b[0m\u001b[0;34m\u001b[0m\u001b[0m\n\u001b[0m\u001b[1;32m      2\u001b[0m \u001b[0mprevious_block\u001b[0m \u001b[0;34m=\u001b[0m \u001b[0mblockchain\u001b[0m\u001b[0;34m[\u001b[0m\u001b[0;36m0\u001b[0m\u001b[0;34m]\u001b[0m\u001b[0;34m\u001b[0m\u001b[0;34m\u001b[0m\u001b[0m\n\u001b[1;32m      3\u001b[0m \u001b[0mnum_blocks\u001b[0m \u001b[0;34m=\u001b[0m \u001b[0;36m10\u001b[0m\u001b[0;34m\u001b[0m\u001b[0;34m\u001b[0m\u001b[0m\n\u001b[1;32m      4\u001b[0m \u001b[0;34m\u001b[0m\u001b[0m\n\u001b[1;32m      5\u001b[0m \u001b[0;31m#3 different types of difficulty to analyze\u001b[0m\u001b[0;34m\u001b[0m\u001b[0;34m\u001b[0m\u001b[0;34m\u001b[0m\u001b[0m\n",
      "\u001b[0;31mNameError\u001b[0m: name 'create_genesis_block' is not defined"
     ]
    }
   ],
   "source": [
    "blockchain = [create_genesis_block()]\n",
    "previous_block = blockchain[0]\n",
    "num_blocks = 10\n",
    "\n",
    "#3 different types of difficulty to analyze\n",
    "difficulty_0 = 1\n",
    "difficulty_1 = 2\n",
    "difficulty_2 = 3\n",
    "difficulty_3 = 4\n",
    "\n",
    "nonce_length = 20\n",
    "\n",
    "hash_array_0, time_array_0 = create_pow_blockchain(num_blocks, difficulty_0, blockchain, previous_block, nonce_length, 0)\n",
    "print(\"Difficulty Level: {} complete\".format(difficulty_0))\n",
    "hash_array_1, time_array_1 = create_pow_blockchain(num_blocks, difficulty_1, blockchain, previous_block, nonce_length, 0)\n",
    "print(\"Difficulty Level: {} complete\".format(difficulty_1))\n",
    "hash_array_2, time_array_2 = create_pow_blockchain(num_blocks, difficulty_2, blockchain, previous_block, nonce_length, 0)\n",
    "print(\"Difficulty Level: {} complete\".format(difficulty_2))\n",
    "hash_array_3, time_array_3 = create_pow_blockchain(num_blocks, difficulty_3, blockchain, previous_block, nonce_length, 0)\n",
    "print(\"Difficulty Level: {} complete\".format(difficulty_3))"
   ]
  },
  {
   "cell_type": "code",
   "execution_count": 13,
   "metadata": {},
   "outputs": [
    {
     "ename": "NameError",
     "evalue": "name 'np' is not defined",
     "output_type": "error",
     "traceback": [
      "\u001b[0;31m---------------------------------------------------------------------------\u001b[0m",
      "\u001b[0;31mNameError\u001b[0m                                 Traceback (most recent call last)",
      "\u001b[0;32m<ipython-input-13-7ddcfa1ff361>\u001b[0m in \u001b[0;36m<module>\u001b[0;34m\u001b[0m\n\u001b[0;32m----> 1\u001b[0;31m \u001b[0mmean_arr_hash\u001b[0m \u001b[0;34m=\u001b[0m \u001b[0;34m[\u001b[0m\u001b[0mnp\u001b[0m\u001b[0;34m.\u001b[0m\u001b[0mmean\u001b[0m\u001b[0;34m(\u001b[0m\u001b[0mhash_array_0\u001b[0m\u001b[0;34m)\u001b[0m\u001b[0;34m,\u001b[0m \u001b[0mnp\u001b[0m\u001b[0;34m.\u001b[0m\u001b[0mmean\u001b[0m\u001b[0;34m(\u001b[0m\u001b[0mhash_array_1\u001b[0m\u001b[0;34m)\u001b[0m\u001b[0;34m,\u001b[0m \u001b[0mnp\u001b[0m\u001b[0;34m.\u001b[0m\u001b[0mmean\u001b[0m\u001b[0;34m(\u001b[0m\u001b[0mhash_array_2\u001b[0m\u001b[0;34m)\u001b[0m\u001b[0;34m,\u001b[0m \u001b[0mnp\u001b[0m\u001b[0;34m.\u001b[0m\u001b[0mmean\u001b[0m\u001b[0;34m(\u001b[0m\u001b[0mhash_array_3\u001b[0m\u001b[0;34m)\u001b[0m\u001b[0;34m]\u001b[0m\u001b[0;34m\u001b[0m\u001b[0;34m\u001b[0m\u001b[0m\n\u001b[0m\u001b[1;32m      2\u001b[0m \u001b[0mmean_arr_time\u001b[0m \u001b[0;34m=\u001b[0m \u001b[0;34m[\u001b[0m\u001b[0mnp\u001b[0m\u001b[0;34m.\u001b[0m\u001b[0mmean\u001b[0m\u001b[0;34m(\u001b[0m\u001b[0mtime_array_0\u001b[0m\u001b[0;34m)\u001b[0m\u001b[0;34m,\u001b[0m \u001b[0mnp\u001b[0m\u001b[0;34m.\u001b[0m\u001b[0mmean\u001b[0m\u001b[0;34m(\u001b[0m\u001b[0mtime_array_1\u001b[0m\u001b[0;34m)\u001b[0m\u001b[0;34m,\u001b[0m \u001b[0mnp\u001b[0m\u001b[0;34m.\u001b[0m\u001b[0mmean\u001b[0m\u001b[0;34m(\u001b[0m\u001b[0mtime_array_2\u001b[0m\u001b[0;34m)\u001b[0m\u001b[0;34m,\u001b[0m \u001b[0mnp\u001b[0m\u001b[0;34m.\u001b[0m\u001b[0mmean\u001b[0m\u001b[0;34m(\u001b[0m\u001b[0mtime_array_3\u001b[0m\u001b[0;34m)\u001b[0m\u001b[0;34m]\u001b[0m\u001b[0;34m\u001b[0m\u001b[0;34m\u001b[0m\u001b[0m\n",
      "\u001b[0;31mNameError\u001b[0m: name 'np' is not defined"
     ]
    }
   ],
   "source": [
    "mean_arr_hash = [np.mean(hash_array_0), np.mean(hash_array_1), np.mean(hash_array_2), np.mean(hash_array_3)]\n",
    "mean_arr_time = [np.mean(time_array_0), np.mean(time_array_1), np.mean(time_array_2), np.mean(time_array_3)]"
   ]
  },
  {
   "cell_type": "code",
   "execution_count": null,
   "metadata": {},
   "outputs": [],
   "source": [
    "plt.plot(mean_arr_hash)\n",
    "plt.show()"
   ]
  },
  {
   "cell_type": "code",
   "execution_count": null,
   "metadata": {},
   "outputs": [],
   "source": [
    "plt.plot(mean_arr_time)\n",
    "plt.show()"
   ]
  },
  {
   "cell_type": "code",
   "execution_count": 14,
   "metadata": {},
   "outputs": [
    {
     "ename": "NameError",
     "evalue": "name 'np' is not defined",
     "output_type": "error",
     "traceback": [
      "\u001b[0;31m---------------------------------------------------------------------------\u001b[0m",
      "\u001b[0;31mNameError\u001b[0m                                 Traceback (most recent call last)",
      "\u001b[0;32m<ipython-input-14-767dd4854826>\u001b[0m in \u001b[0;36m<module>\u001b[0;34m\u001b[0m\n\u001b[0;32m----> 1\u001b[0;31m \u001b[0mdiff_factor_1\u001b[0m \u001b[0;34m=\u001b[0m \u001b[0mnp\u001b[0m\u001b[0;34m.\u001b[0m\u001b[0mmean\u001b[0m\u001b[0;34m(\u001b[0m\u001b[0mhash_array_1\u001b[0m\u001b[0;34m)\u001b[0m\u001b[0;34m/\u001b[0m\u001b[0mnp\u001b[0m\u001b[0;34m.\u001b[0m\u001b[0mmean\u001b[0m\u001b[0;34m(\u001b[0m\u001b[0mhash_array_0\u001b[0m\u001b[0;34m)\u001b[0m\u001b[0;34m\u001b[0m\u001b[0;34m\u001b[0m\u001b[0m\n\u001b[0m\u001b[1;32m      2\u001b[0m \u001b[0mdiff_factor_2\u001b[0m \u001b[0;34m=\u001b[0m \u001b[0mnp\u001b[0m\u001b[0;34m.\u001b[0m\u001b[0mmean\u001b[0m\u001b[0;34m(\u001b[0m\u001b[0mhash_array_2\u001b[0m\u001b[0;34m)\u001b[0m\u001b[0;34m/\u001b[0m\u001b[0mnp\u001b[0m\u001b[0;34m.\u001b[0m\u001b[0mmean\u001b[0m\u001b[0;34m(\u001b[0m\u001b[0mhash_array_1\u001b[0m\u001b[0;34m)\u001b[0m\u001b[0;34m\u001b[0m\u001b[0;34m\u001b[0m\u001b[0m\n\u001b[1;32m      3\u001b[0m \u001b[0mdiff_factor_3\u001b[0m \u001b[0;34m=\u001b[0m \u001b[0mnp\u001b[0m\u001b[0;34m.\u001b[0m\u001b[0mmean\u001b[0m\u001b[0;34m(\u001b[0m\u001b[0mhash_array_3\u001b[0m\u001b[0;34m)\u001b[0m\u001b[0;34m/\u001b[0m\u001b[0mnp\u001b[0m\u001b[0;34m.\u001b[0m\u001b[0mmean\u001b[0m\u001b[0;34m(\u001b[0m\u001b[0mhash_array_2\u001b[0m\u001b[0;34m)\u001b[0m\u001b[0;34m\u001b[0m\u001b[0;34m\u001b[0m\u001b[0m\n\u001b[1;32m      4\u001b[0m \u001b[0mprint\u001b[0m\u001b[0;34m(\u001b[0m\u001b[0;34m\"Factor of difficulty increase from 1 to 2: {}\"\u001b[0m\u001b[0;34m.\u001b[0m\u001b[0mformat\u001b[0m\u001b[0;34m(\u001b[0m\u001b[0mdiff_factor_1\u001b[0m\u001b[0;34m)\u001b[0m\u001b[0;34m)\u001b[0m\u001b[0;34m\u001b[0m\u001b[0;34m\u001b[0m\u001b[0m\n\u001b[1;32m      5\u001b[0m \u001b[0mprint\u001b[0m\u001b[0;34m(\u001b[0m\u001b[0;34m\"Factor of difficulty increase from 2 to 3: {}\"\u001b[0m\u001b[0;34m.\u001b[0m\u001b[0mformat\u001b[0m\u001b[0;34m(\u001b[0m\u001b[0mdiff_factor_2\u001b[0m\u001b[0;34m)\u001b[0m\u001b[0;34m)\u001b[0m\u001b[0;34m\u001b[0m\u001b[0;34m\u001b[0m\u001b[0m\n",
      "\u001b[0;31mNameError\u001b[0m: name 'np' is not defined"
     ]
    }
   ],
   "source": [
    "diff_factor_1 = np.mean(hash_array_1)/np.mean(hash_array_0)\n",
    "diff_factor_2 = np.mean(hash_array_2)/np.mean(hash_array_1)\n",
    "diff_factor_3 = np.mean(hash_array_3)/np.mean(hash_array_2)\n",
    "print(\"Factor of difficulty increase from 1 to 2: {}\".format(diff_factor_1))\n",
    "print(\"Factor of difficulty increase from 2 to 3: {}\".format(diff_factor_2))\n",
    "print(\"Factor of difficulty increase from 3 to 4: {}\".format(diff_factor_3))"
   ]
  },
  {
   "cell_type": "markdown",
   "metadata": {},
   "source": [
    "**Question 6: This one is simple**\n",
    "\n",
    "Look at the factor of difficulty increase from each level to the subsequent level, printed from the cell above.\n",
    "\n",
    "What whould the factor of difficulty increase be for each level: **Your answer Here**"
   ]
  },
  {
   "cell_type": "markdown",
   "metadata": {},
   "source": [
    "**Check Off**\n",
    "\n",
    "If you have filled out all the skeleton code and put down your answers for the questions, let any of the instructor know and we will check you off!\n",
    "\n",
    "If you cannot finish it this class, you have until next week's class to finish check off and earn points.\n"
   ]
  }
 ],
 "metadata": {
  "kernelspec": {
   "display_name": "Python 3 (ipykernel)",
   "language": "python",
   "name": "python3"
  },
  "language_info": {
   "codemirror_mode": {
    "name": "ipython",
    "version": 3
   },
   "file_extension": ".py",
   "mimetype": "text/x-python",
   "name": "python",
   "nbconvert_exporter": "python",
   "pygments_lexer": "ipython3",
   "version": "3.8.10"
  }
 },
 "nbformat": 4,
 "nbformat_minor": 2
}
